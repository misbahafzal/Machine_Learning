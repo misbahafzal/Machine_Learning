{
  "nbformat": 4,
  "nbformat_minor": 0,
  "metadata": {
    "colab": {
      "name": "Ds-033_TTDS_Project.ipynb",
      "provenance": [],
      "collapsed_sections": [],
      "toc_visible": true
    },
    "kernelspec": {
      "name": "python3",
      "display_name": "Python 3"
    }
  },
  "cells": [
    {
      "cell_type": "markdown",
      "metadata": {
        "id": "_dFTK95BsMgY"
      },
      "source": [
        "# **Malicious URL Detection**\n",
        "\n",
        "This project uses pyspark for handling massive dataset. First, we are going to install pyspark in our jupyter notebook."
      ]
    },
    {
      "cell_type": "code",
      "metadata": {
        "id": "BvmD54QKsK8x",
        "outputId": "450272f9-5105-4081-80e0-09c0c1e9c9b3",
        "colab": {
          "base_uri": "https://localhost:8080/",
          "height": 258
        }
      },
      "source": [
        "#Installing python dependencies\n",
        "!apt-get install openjdk-8-jdk-headless -qq > /dev/null\n",
        "!wget -q https://www-us.apache.org/dist/spark/spark-2.4.5/spark-2.4.5-bin-hadoop2.7.tgz\n",
        "!tar xf spark-2.4.5-bin-hadoop2.7.tgz\n",
        "!pip install -q findspark\n",
        "!pip install pyspark\n"
      ],
      "execution_count": null,
      "outputs": [
        {
          "output_type": "stream",
          "text": [
            "Collecting pyspark\n",
            "\u001b[?25l  Downloading https://files.pythonhosted.org/packages/9a/5a/271c416c1c2185b6cb0151b29a91fff6fcaed80173c8584ff6d20e46b465/pyspark-2.4.5.tar.gz (217.8MB)\n",
            "\u001b[K     |████████████████████████████████| 217.8MB 58kB/s \n",
            "\u001b[?25hCollecting py4j==0.10.7\n",
            "\u001b[?25l  Downloading https://files.pythonhosted.org/packages/e3/53/c737818eb9a7dc32a7cd4f1396e787bd94200c3997c72c1dbe028587bd76/py4j-0.10.7-py2.py3-none-any.whl (197kB)\n",
            "\u001b[K     |████████████████████████████████| 204kB 49.5MB/s \n",
            "\u001b[?25hBuilding wheels for collected packages: pyspark\n",
            "  Building wheel for pyspark (setup.py) ... \u001b[?25l\u001b[?25hdone\n",
            "  Created wheel for pyspark: filename=pyspark-2.4.5-py2.py3-none-any.whl size=218257927 sha256=dc908ce67b71fa1ce512f51584ad728a211ec0946e9271b279f7d502ada7a923\n",
            "  Stored in directory: /root/.cache/pip/wheels/bf/db/04/61d66a5939364e756eb1c1be4ec5bdce6e04047fc7929a3c3c\n",
            "Successfully built pyspark\n",
            "Installing collected packages: py4j, pyspark\n",
            "Successfully installed py4j-0.10.7 pyspark-2.4.5\n"
          ],
          "name": "stdout"
        }
      ]
    },
    {
      "cell_type": "code",
      "metadata": {
        "id": "uoAXqkOf1lI6"
      },
      "source": [
        "#Setting up environment variable for spark and java\n",
        "import os\n",
        "os.environ[\"JAVA_HOME\"] = \"/usr/lib/jvm/java-8-openjdk-amd64\"\n",
        "os.environ[\"SPARK_HOME\"] = \"/content/spark-2.4.5-bin-hadoop2.7\""
      ],
      "execution_count": null,
      "outputs": []
    },
    {
      "cell_type": "code",
      "metadata": {
        "id": "Su3goEpL3FUM"
      },
      "source": [
        "#creating spark session\n",
        "from pyspark.sql import SparkSession\n",
        "\n",
        "spark = SparkSession.builder.appName(\"Malicious URL Detection\").getOrCreate()"
      ],
      "execution_count": null,
      "outputs": []
    },
    {
      "cell_type": "code",
      "metadata": {
        "id": "vekb-AgZHc03"
      },
      "source": [
        "import pandas as pd\n",
        "import numpy as np\n",
        "import matplotlib.pyplot as plt\n",
        "%matplotlib inline"
      ],
      "execution_count": null,
      "outputs": []
    },
    {
      "cell_type": "code",
      "metadata": {
        "id": "aLrA9f5SleYq",
        "outputId": "b5ea0c3b-649c-4784-ede4-636c03c6a756",
        "colab": {
          "base_uri": "https://localhost:8080/",
          "height": 122
        }
      },
      "source": [
        "from google.colab import drive\n",
        "drive.mount('/content/drive')"
      ],
      "execution_count": null,
      "outputs": [
        {
          "output_type": "stream",
          "text": [
            "Go to this URL in a browser: https://accounts.google.com/o/oauth2/auth?client_id=947318989803-6bn6qk8qdgf4n4g3pfee6491hc0brc4i.apps.googleusercontent.com&redirect_uri=urn%3aietf%3awg%3aoauth%3a2.0%3aoob&response_type=code&scope=email%20https%3a%2f%2fwww.googleapis.com%2fauth%2fdocs.test%20https%3a%2f%2fwww.googleapis.com%2fauth%2fdrive%20https%3a%2f%2fwww.googleapis.com%2fauth%2fdrive.photos.readonly%20https%3a%2f%2fwww.googleapis.com%2fauth%2fpeopleapi.readonly\n",
            "\n",
            "Enter your authorization code:\n",
            "··········\n",
            "Mounted at /content/drive\n"
          ],
          "name": "stdout"
        }
      ]
    },
    {
      "cell_type": "code",
      "metadata": {
        "id": "ZMT0GeD1mlCK"
      },
      "source": [
        "data_df = spark.read.csv(path=\"/content/drive/My Drive/Colab Notebooks/dataset.csv\",\n",
        "                        sep=',',\n",
        "                        encoding='UTF-8',\n",
        "                        comment=None,\n",
        "                        header=True, \n",
        "                        inferSchema=True)"
      ],
      "execution_count": null,
      "outputs": []
    },
    {
      "cell_type": "code",
      "metadata": {
        "id": "r1k4tVQ18DU6",
        "outputId": "b3d7374e-8d12-46c4-ba26-1f0af10209fd",
        "colab": {
          "base_uri": "https://localhost:8080/",
          "height": 204
        }
      },
      "source": [
        "data_df.show(5) #viewing initial 5 rows, note that it is spark dataframe and not pandas"
      ],
      "execution_count": null,
      "outputs": [
        {
          "output_type": "stream",
          "text": [
            "+--------------------+-----+\n",
            "|                 url|label|\n",
            "+--------------------+-----+\n",
            "|http://br-ofertas...|    1|\n",
            "|https://semana-da...|    1|\n",
            "|https://scrid-app...|    1|\n",
            "|http://my-softban...|    1|\n",
            "|http://www.my-sof...|    1|\n",
            "+--------------------+-----+\n",
            "only showing top 5 rows\n",
            "\n"
          ],
          "name": "stdout"
        }
      ]
    },
    {
      "cell_type": "code",
      "metadata": {
        "id": "GsGS7pd-0tgr",
        "outputId": "a6667c28-6675-48e3-8e1a-da1ca19bacb7",
        "colab": {
          "base_uri": "https://localhost:8080/",
          "height": 85
        }
      },
      "source": [
        "#lets print schema, it is equivalent to data_df.info() in pandas\n",
        "data_df.printSchema()"
      ],
      "execution_count": null,
      "outputs": [
        {
          "output_type": "stream",
          "text": [
            "root\n",
            " |-- url: string (nullable = true)\n",
            " |-- label: integer (nullable = true)\n",
            "\n"
          ],
          "name": "stdout"
        }
      ]
    },
    {
      "cell_type": "code",
      "metadata": {
        "id": "fF8EXkqy0_B7",
        "outputId": "16f80b38-a8d6-4a41-c23f-2dcc6c092f35",
        "colab": {
          "base_uri": "https://localhost:8080/",
          "height": 204
        }
      },
      "source": [
        "#Lets visualize this using pandas dataframe\n",
        "df=pd.DataFrame(data_df.take(5), columns=data_df.columns)\n",
        "df"
      ],
      "execution_count": null,
      "outputs": [
        {
          "output_type": "execute_result",
          "data": {
            "text/html": [
              "<div>\n",
              "<style scoped>\n",
              "    .dataframe tbody tr th:only-of-type {\n",
              "        vertical-align: middle;\n",
              "    }\n",
              "\n",
              "    .dataframe tbody tr th {\n",
              "        vertical-align: top;\n",
              "    }\n",
              "\n",
              "    .dataframe thead th {\n",
              "        text-align: right;\n",
              "    }\n",
              "</style>\n",
              "<table border=\"1\" class=\"dataframe\">\n",
              "  <thead>\n",
              "    <tr style=\"text-align: right;\">\n",
              "      <th></th>\n",
              "      <th>url</th>\n",
              "      <th>label</th>\n",
              "    </tr>\n",
              "  </thead>\n",
              "  <tbody>\n",
              "    <tr>\n",
              "      <th>0</th>\n",
              "      <td>http://br-ofertasimperdiveis.epizy.com/produto...</td>\n",
              "      <td>1</td>\n",
              "    </tr>\n",
              "    <tr>\n",
              "      <th>1</th>\n",
              "      <td>https://semana-da-oferta.com/produtos.php?id=5...</td>\n",
              "      <td>1</td>\n",
              "    </tr>\n",
              "    <tr>\n",
              "      <th>2</th>\n",
              "      <td>https://scrid-apps-creacust-sslhide90766752024...</td>\n",
              "      <td>1</td>\n",
              "    </tr>\n",
              "    <tr>\n",
              "      <th>3</th>\n",
              "      <td>http://my-softbank-security.com/wap_login.htm</td>\n",
              "      <td>1</td>\n",
              "    </tr>\n",
              "    <tr>\n",
              "      <th>4</th>\n",
              "      <td>http://www.my-softbank-security.com/wap_login.htm</td>\n",
              "      <td>1</td>\n",
              "    </tr>\n",
              "  </tbody>\n",
              "</table>\n",
              "</div>"
            ],
            "text/plain": [
              "                                                 url  label\n",
              "0  http://br-ofertasimperdiveis.epizy.com/produto...      1\n",
              "1  https://semana-da-oferta.com/produtos.php?id=5...      1\n",
              "2  https://scrid-apps-creacust-sslhide90766752024...      1\n",
              "3      http://my-softbank-security.com/wap_login.htm      1\n",
              "4  http://www.my-softbank-security.com/wap_login.htm      1"
            ]
          },
          "metadata": {
            "tags": []
          },
          "execution_count": 10
        }
      ]
    },
    {
      "cell_type": "code",
      "metadata": {
        "id": "FglCya1J2XdY",
        "outputId": "7b3c36ab-1b50-495a-89f9-b146c3965bbe",
        "colab": {
          "base_uri": "https://localhost:8080/",
          "height": 136
        }
      },
      "source": [
        "pandas_df = data_df.select(\"*\").toPandas()\n",
        "X= pandas_df.groupby(\"label\").count()\n",
        "pandas_df.info()"
      ],
      "execution_count": null,
      "outputs": [
        {
          "output_type": "stream",
          "text": [
            "<class 'pandas.core.frame.DataFrame'>\n",
            "RangeIndex: 1056937 entries, 0 to 1056936\n",
            "Data columns (total 2 columns):\n",
            "url      1056937 non-null object\n",
            "label    1056937 non-null int32\n",
            "dtypes: int32(1), object(1)\n",
            "memory usage: 12.1+ MB\n"
          ],
          "name": "stdout"
        }
      ]
    },
    {
      "cell_type": "code",
      "metadata": {
        "id": "iHEoAH_r8IKr",
        "outputId": "7a2ec422-c3dc-4b5f-8fd5-863cd1fa411d",
        "colab": {
          "base_uri": "https://localhost:8080/",
          "height": 111
        }
      },
      "source": [
        "X=data_df.groupby('label').count().toPandas()\n",
        "X"
      ],
      "execution_count": null,
      "outputs": [
        {
          "output_type": "execute_result",
          "data": {
            "text/html": [
              "<div>\n",
              "<style scoped>\n",
              "    .dataframe tbody tr th:only-of-type {\n",
              "        vertical-align: middle;\n",
              "    }\n",
              "\n",
              "    .dataframe tbody tr th {\n",
              "        vertical-align: top;\n",
              "    }\n",
              "\n",
              "    .dataframe thead th {\n",
              "        text-align: right;\n",
              "    }\n",
              "</style>\n",
              "<table border=\"1\" class=\"dataframe\">\n",
              "  <thead>\n",
              "    <tr style=\"text-align: right;\">\n",
              "      <th></th>\n",
              "      <th>label</th>\n",
              "      <th>count</th>\n",
              "    </tr>\n",
              "  </thead>\n",
              "  <tbody>\n",
              "    <tr>\n",
              "      <th>0</th>\n",
              "      <td>1</td>\n",
              "      <td>56937</td>\n",
              "    </tr>\n",
              "    <tr>\n",
              "      <th>1</th>\n",
              "      <td>0</td>\n",
              "      <td>1000000</td>\n",
              "    </tr>\n",
              "  </tbody>\n",
              "</table>\n",
              "</div>"
            ],
            "text/plain": [
              "   label    count\n",
              "0      1    56937\n",
              "1      0  1000000"
            ]
          },
          "metadata": {
            "tags": []
          },
          "execution_count": 12
        }
      ]
    },
    {
      "cell_type": "markdown",
      "metadata": {
        "id": "bbuu5A8r8Z5Z"
      },
      "source": [
        "Undersample the unbalanced dataset"
      ]
    },
    {
      "cell_type": "code",
      "metadata": {
        "id": "TmaaFYSm8cYa"
      },
      "source": [
        "malicious_url = data_df.filter(\"label = 1\")\n",
        "bening_url = data_df.filter(\"label = 0\")"
      ],
      "execution_count": null,
      "outputs": []
    },
    {
      "cell_type": "code",
      "metadata": {
        "id": "1IE1GW4z8kce",
        "outputId": "b7d0c2df-6d98-4626-fa34-22479bfdeae2",
        "colab": {
          "base_uri": "https://localhost:8080/",
          "height": 34
        }
      },
      "source": [
        "malicious_url.count()"
      ],
      "execution_count": null,
      "outputs": [
        {
          "output_type": "execute_result",
          "data": {
            "text/plain": [
              "56937"
            ]
          },
          "metadata": {
            "tags": []
          },
          "execution_count": 14
        }
      ]
    },
    {
      "cell_type": "code",
      "metadata": {
        "id": "G1clv2Me8rVI",
        "outputId": "1861d767-45e5-4f7c-baa3-7fc2b5225200",
        "colab": {
          "base_uri": "https://localhost:8080/",
          "height": 34
        }
      },
      "source": [
        "bening_url.count()"
      ],
      "execution_count": null,
      "outputs": [
        {
          "output_type": "execute_result",
          "data": {
            "text/plain": [
              "1000000"
            ]
          },
          "metadata": {
            "tags": []
          },
          "execution_count": 15
        }
      ]
    },
    {
      "cell_type": "code",
      "metadata": {
        "id": "HBclWbVRGorB",
        "outputId": "e91009fb-c018-420e-98c3-41421ec4e378",
        "colab": {
          "base_uri": "https://localhost:8080/",
          "height": 282
        }
      },
      "source": [
        "Y=[bening_url.count(),malicious_url.count()]\n",
        "X=[0,1]\n",
        "plt.bar(X,Y)"
      ],
      "execution_count": null,
      "outputs": [
        {
          "output_type": "execute_result",
          "data": {
            "text/plain": [
              "<BarContainer object of 2 artists>"
            ]
          },
          "metadata": {
            "tags": []
          },
          "execution_count": 16
        },
        {
          "output_type": "display_data",
          "data": {
            "image/png": "[encoded data removed]",
            "text/plain": [
              "<Figure size 432x288 with 1 Axes>"
            ]
          },
          "metadata": {
            "tags": []
          }
        }
      ]
    },
    {
      "cell_type": "code",
      "metadata": {
        "id": "uVTgVrF_9PiJ",
        "outputId": "4dec964f-d07c-450b-fa48-7585677bc75d",
        "colab": {
          "base_uri": "https://localhost:8080/",
          "height": 34
        }
      },
      "source": [
        "#calculating sample ratio\n",
        "sample_ratio= malicious_url.count() / data_df.count()\n",
        "sample_ratio"
      ],
      "execution_count": null,
      "outputs": [
        {
          "output_type": "execute_result",
          "data": {
            "text/plain": [
              "0.053869814378718885"
            ]
          },
          "metadata": {
            "tags": []
          },
          "execution_count": 17
        }
      ]
    },
    {
      "cell_type": "code",
      "metadata": {
        "id": "YV6vK8P79jaM",
        "outputId": "84daf6fe-3d22-4a20-f1cf-b48913d5a577",
        "colab": {
          "base_uri": "https://localhost:8080/",
          "height": 34
        }
      },
      "source": [
        "sample_bening = bening_url.sample(False, sample_ratio)\n",
        "sample_bening.count()"
      ],
      "execution_count": null,
      "outputs": [
        {
          "output_type": "execute_result",
          "data": {
            "text/plain": [
              "53822"
            ]
          },
          "metadata": {
            "tags": []
          },
          "execution_count": 18
        }
      ]
    },
    {
      "cell_type": "code",
      "metadata": {
        "id": "jpLC8CZt90ug"
      },
      "source": [
        "#union of all data\n",
        "sampled_data = malicious_url.unionAll(sample_bening)"
      ],
      "execution_count": null,
      "outputs": []
    },
    {
      "cell_type": "code",
      "metadata": {
        "id": "3SKiQWh_HUCR",
        "outputId": "46a1cd5c-1886-4c0e-aba4-313f8bc0d62d",
        "colab": {
          "base_uri": "https://localhost:8080/",
          "height": 282
        }
      },
      "source": [
        "Y=[sample_bening.count(), malicious_url.count()]\n",
        "plt.bar(X,Y)"
      ],
      "execution_count": null,
      "outputs": [
        {
          "output_type": "execute_result",
          "data": {
            "text/plain": [
              "<BarContainer object of 2 artists>"
            ]
          },
          "metadata": {
            "tags": []
          },
          "execution_count": 20
        },
        {
          "output_type": "display_data",
          "data": {
            "image/png": "[encoded data removed]",
            "text/plain": [
              "<Figure size 432x288 with 1 Axes>"
            ]
          },
          "metadata": {
            "tags": []
          }
        }
      ]
    },
    {
      "cell_type": "code",
      "metadata": {
        "id": "PU3aYwTdTaKt",
        "outputId": "00821499-6de8-408d-9bd1-a4369c042d38",
        "colab": {
          "base_uri": "https://localhost:8080/",
          "height": 111
        }
      },
      "source": [
        "#check sampled data count\n",
        "sampled_data.groupby('label').count().toPandas()"
      ],
      "execution_count": null,
      "outputs": [
        {
          "output_type": "execute_result",
          "data": {
            "text/html": [
              "<div>\n",
              "<style scoped>\n",
              "    .dataframe tbody tr th:only-of-type {\n",
              "        vertical-align: middle;\n",
              "    }\n",
              "\n",
              "    .dataframe tbody tr th {\n",
              "        vertical-align: top;\n",
              "    }\n",
              "\n",
              "    .dataframe thead th {\n",
              "        text-align: right;\n",
              "    }\n",
              "</style>\n",
              "<table border=\"1\" class=\"dataframe\">\n",
              "  <thead>\n",
              "    <tr style=\"text-align: right;\">\n",
              "      <th></th>\n",
              "      <th>label</th>\n",
              "      <th>count</th>\n",
              "    </tr>\n",
              "  </thead>\n",
              "  <tbody>\n",
              "    <tr>\n",
              "      <th>0</th>\n",
              "      <td>1</td>\n",
              "      <td>56937</td>\n",
              "    </tr>\n",
              "    <tr>\n",
              "      <th>1</th>\n",
              "      <td>0</td>\n",
              "      <td>53822</td>\n",
              "    </tr>\n",
              "  </tbody>\n",
              "</table>\n",
              "</div>"
            ],
            "text/plain": [
              "   label  count\n",
              "0      1  56937\n",
              "1      0  53822"
            ]
          },
          "metadata": {
            "tags": []
          },
          "execution_count": 21
        }
      ]
    },
    {
      "cell_type": "markdown",
      "metadata": {
        "id": "4xyZ6NLaTmck"
      },
      "source": [
        "# **Data Tokenization**\n",
        "Sparsing url data to break into words"
      ]
    },
    {
      "cell_type": "code",
      "metadata": {
        "id": "p7jDzdFhTw3c",
        "outputId": "6642cbff-3cc4-4a4e-b99b-f3c6f15118c0",
        "colab": {
          "base_uri": "https://localhost:8080/",
          "height": 34
        }
      },
      "source": [
        "from pyspark.ml.feature import Tokenizer, RegexTokenizer,StopWordsRemover, CountVectorizer\n",
        "regexTokenizer = RegexTokenizer(inputCol=\"url\", outputCol=\"Words\", pattern=\"\\\\W\")\n",
        "regexTokenizer"
      ],
      "execution_count": null,
      "outputs": [
        {
          "output_type": "execute_result",
          "data": {
            "text/plain": [
              "RegexTokenizer_f09ea833c5df"
            ]
          },
          "metadata": {
            "tags": []
          },
          "execution_count": 22
        }
      ]
    },
    {
      "cell_type": "code",
      "metadata": {
        "id": "r9tEEUCEUHjY",
        "outputId": "d8801ec8-7877-41f7-c054-bf34d751ad0f",
        "colab": {
          "base_uri": "https://localhost:8080/",
          "height": 34
        }
      },
      "source": [
        "#we will now use count vectorizer which will convert words into feature vector i.e rows x 1 format\n",
        "Count_Vectors = CountVectorizer(inputCol=regexTokenizer.getOutputCol(), outputCol=\"Raw Features\", vocabSize=10000, minDF=5)\n",
        "Count_Vectors"
      ],
      "execution_count": null,
      "outputs": [
        {
          "output_type": "execute_result",
          "data": {
            "text/plain": [
              "CountVectorizer_26a77fd84785"
            ]
          },
          "metadata": {
            "tags": []
          },
          "execution_count": 23
        }
      ]
    },
    {
      "cell_type": "code",
      "metadata": {
        "id": "3Z4i2a4JVM4V",
        "outputId": "bbe69d6b-69a3-4652-a70a-642e1a5c8f4c",
        "colab": {
          "base_uri": "https://localhost:8080/",
          "height": 34
        }
      },
      "source": [
        "from pyspark.ml.feature import IDF\n",
        "#Tf-idf weight used for evaluate how importance a keyword to document in to collection of document using statistic measure.\n",
        "#IDF is being used to check relevance of a keyword against a particular document.\n",
        "idf = IDF(inputCol=Count_Vectors.getOutputCol(), outputCol=\"features\") \n",
        "idf"
      ],
      "execution_count": null,
      "outputs": [
        {
          "output_type": "execute_result",
          "data": {
            "text/plain": [
              "IDF_ca02fbbdac2e"
            ]
          },
          "metadata": {
            "tags": []
          },
          "execution_count": 24
        }
      ]
    },
    {
      "cell_type": "code",
      "metadata": {
        "id": "UHLLKz2HWeaG"
      },
      "source": [
        "#We are now going to create a pipeline. A pipeline is necessary to represent the workflow of a ML model.\n",
        "#It tells us about transformers and estimators\n",
        "#creating our pipline \n",
        "from pyspark.ml import Pipeline\n",
        "pipeline = Pipeline(stages=[regexTokenizer, Count_Vectors, idf ])\n",
        "#There are three stages in pipeline, first is regex tokenizer that transforms raw urls into words, second stage converts words \n",
        "#into feature vectors and then idf is applied to check relevance of those keywords.\n"
      ],
      "execution_count": null,
      "outputs": []
    },
    {
      "cell_type": "code",
      "metadata": {
        "id": "JWAW8i08eIyh"
      },
      "source": [
        "#Now, need to fit the pipeline on training document\n",
        "#we will be passing sampled_data(undersampled) into the pipeline to fit this. This is an estimator.\n",
        "PipelineFit = pipeline.fit(sampled_data) #This actually produces a transformer that can be fed into model\n"
      ],
      "execution_count": null,
      "outputs": []
    },
    {
      "cell_type": "code",
      "metadata": {
        "id": "V5wsokr3fGEb"
      },
      "source": [
        "#transforming the sampled data into dataset \n",
        "data_set = PipelineFit.transform(sampled_data)\n",
        "#So, the data can now be split into training(80%) and testing (20%) using random function\n",
        "(training_Data, test_Data) = data_set.randomSplit([0.8, 0.2], seed = 100) #setting seed to 100 for randon row selection"
      ],
      "execution_count": null,
      "outputs": []
    },
    {
      "cell_type": "code",
      "metadata": {
        "id": "kOdmr3CXf4FZ",
        "outputId": "6ec20fcf-07de-41d2-b7e8-803029c2b1cf",
        "colab": {
          "base_uri": "https://localhost:8080/",
          "height": 34
        }
      },
      "source": [
        "#Let's check training dataset count\n",
        "print(\"Training Dataset Count: \" + str(training_Data.count()))\n"
      ],
      "execution_count": null,
      "outputs": [
        {
          "output_type": "stream",
          "text": [
            "Training Dataset Count: 88458\n"
          ],
          "name": "stdout"
        }
      ]
    },
    {
      "cell_type": "code",
      "metadata": {
        "id": "CX8IS_s5gEAK",
        "outputId": "7d582fe5-0426-4203-a7eb-c0cd6c25f926",
        "colab": {
          "base_uri": "https://localhost:8080/",
          "height": 34
        }
      },
      "source": [
        "#Checking testing dataset count\n",
        "print(\"Testing Dataset Count: \" + str(test_Data.count()))"
      ],
      "execution_count": null,
      "outputs": [
        {
          "output_type": "stream",
          "text": [
            "Testing Dataset Count: 22301\n"
          ],
          "name": "stdout"
        }
      ]
    },
    {
      "cell_type": "code",
      "metadata": {
        "id": "2GdT8yZvgauo",
        "outputId": "0b154673-7f03-499d-9f1f-78a184427ee2",
        "colab": {
          "base_uri": "https://localhost:8080/",
          "height": 34
        }
      },
      "source": [
        "#What about total data count?\n",
        "print(\"Total Dataset Count: \" + str(data_set.count()))"
      ],
      "execution_count": null,
      "outputs": [
        {
          "output_type": "stream",
          "text": [
            "Total Dataset Count: 110759\n"
          ],
          "name": "stdout"
        }
      ]
    },
    {
      "cell_type": "code",
      "metadata": {
        "id": "SsS8f2YOnJO_",
        "outputId": "abfc0058-e229-499a-9d35-a70432a8e27d",
        "colab": {
          "base_uri": "https://localhost:8080/",
          "height": 289
        }
      },
      "source": [
        "#show initial 10 rows of dataset\n",
        "data_set.show(10)"
      ],
      "execution_count": null,
      "outputs": [
        {
          "output_type": "stream",
          "text": [
            "+--------------------+-----+--------------------+--------------------+--------------------+\n",
            "|                 url|label|               Words|        Raw Features|            features|\n",
            "+--------------------+-----+--------------------+--------------------+--------------------+\n",
            "|http://br-ofertas...|    1|[http, br, oferta...|(6960,[0,1,2,3,19...|(6960,[0,1,2,3,19...|\n",
            "|https://semana-da...|    1|[https, semana, d...|(6960,[0,3,6,19,2...|(6960,[0,3,6,19,2...|\n",
            "|https://scrid-app...|    1|[https, scrid, ap...|(6960,[0,6,845],[...|(6960,[0,6,845],[...|\n",
            "|http://my-softban...|    1|[http, my, softba...|(6960,[0,1,29,158...|(6960,[0,1,29,158...|\n",
            "|http://www.my-sof...|    1|[http, www, my, s...|(6960,[0,1,4,29,1...|(6960,[0,1,4,29,1...|\n",
            "|http://diadesalda...|    1|[http, diadesalda...|(6960,[0,1],[1.0,...|(6960,[0,1],[0.55...|\n",
            "|https://sites.goo...|    1|[https, sites, go...|(6960,[0,6,28,30,...|(6960,[0,6,28,30,...|\n",
            "|http://protvinowi...|    1|[http, protvinowi...|(6960,[1,14],[1.0...|(6960,[1,14],[0.8...|\n",
            "|http://socset222....|    1|[http, socset222,...|(6960,[1,283,461]...|(6960,[1,283,461]...|\n",
            "|https://help78.00...|    1|[https, help78, 0...|(6960,[0,3,6,50,2...|(6960,[0,3,6,50,2...|\n",
            "+--------------------+-----+--------------------+--------------------+--------------------+\n",
            "only showing top 10 rows\n",
            "\n"
          ],
          "name": "stdout"
        }
      ]
    },
    {
      "cell_type": "code",
      "metadata": {
        "id": "MEZ2gDrL9LoV",
        "outputId": "3d2ac931-dd48-4c49-8406-9f18b829186c",
        "colab": {
          "base_uri": "https://localhost:8080/",
          "height": 34
        }
      },
      "source": [
        "print(\"Number of features: \", len(data_set.select(\"features\").take(1)[0][0]))"
      ],
      "execution_count": null,
      "outputs": [
        {
          "output_type": "stream",
          "text": [
            "Number of features:  6960\n"
          ],
          "name": "stdout"
        }
      ]
    },
    {
      "cell_type": "code",
      "metadata": {
        "id": "M8v5HwSMnpVf",
        "outputId": "9c420264-668a-441b-bc4c-ecc12c776465",
        "colab": {
          "base_uri": "https://localhost:8080/",
          "height": 111
        }
      },
      "source": [
        "#checking the count of 1's and 0's in training data\n",
        "training_Data.groupby('label').count().toPandas()"
      ],
      "execution_count": null,
      "outputs": [
        {
          "output_type": "execute_result",
          "data": {
            "text/html": [
              "<div>\n",
              "<style scoped>\n",
              "    .dataframe tbody tr th:only-of-type {\n",
              "        vertical-align: middle;\n",
              "    }\n",
              "\n",
              "    .dataframe tbody tr th {\n",
              "        vertical-align: top;\n",
              "    }\n",
              "\n",
              "    .dataframe thead th {\n",
              "        text-align: right;\n",
              "    }\n",
              "</style>\n",
              "<table border=\"1\" class=\"dataframe\">\n",
              "  <thead>\n",
              "    <tr style=\"text-align: right;\">\n",
              "      <th></th>\n",
              "      <th>label</th>\n",
              "      <th>count</th>\n",
              "    </tr>\n",
              "  </thead>\n",
              "  <tbody>\n",
              "    <tr>\n",
              "      <th>0</th>\n",
              "      <td>1</td>\n",
              "      <td>45493</td>\n",
              "    </tr>\n",
              "    <tr>\n",
              "      <th>1</th>\n",
              "      <td>0</td>\n",
              "      <td>42965</td>\n",
              "    </tr>\n",
              "  </tbody>\n",
              "</table>\n",
              "</div>"
            ],
            "text/plain": [
              "   label  count\n",
              "0      1  45493\n",
              "1      0  42965"
            ]
          },
          "metadata": {
            "tags": []
          },
          "execution_count": 32
        }
      ]
    },
    {
      "cell_type": "code",
      "metadata": {
        "id": "sUVBK8FuCr8y",
        "outputId": "6b850a8d-f0d9-46ea-eb25-b96408278fb9",
        "colab": {
          "base_uri": "https://localhost:8080/",
          "height": 54
        }
      },
      "source": [
        "#without sampling\n",
        "data_set= PipelineFit.transform(data_df)\n",
        "(training_Data, test_Data) = data_set.randomSplit([0.8, 0.2], seed = 100) #setting seed to 100 for randon row selection\n",
        "logistic = LogisticRegression(maxIter=10000, regParam=0.3, elasticNetParam=0, family = \"binomial\")\n",
        "#training model using logistic regression\n",
        "logisticModel = logistic.fit(training_Data)\n",
        "#making predictions based on training data, note that label is not used here\n",
        "predictions = logisticModel.transform(test_Data)\n"
      ],
      "execution_count": null,
      "outputs": [
        {
          "output_type": "stream",
          "text": [
            "[Row(label=0), Row(label=0), Row(label=0), Row(label=0), Row(label=0)] [Row(prediction=0.0), Row(prediction=0.0), Row(prediction=0.0), Row(prediction=0.0), Row(prediction=0.0)]\n"
          ],
          "name": "stdout"
        }
      ]
    },
    {
      "cell_type": "code",
      "metadata": {
        "id": "4JuefnFCE2kN",
        "outputId": "166c38a2-9542-47b4-b63d-fdee1ecf3b84",
        "colab": {
          "base_uri": "https://localhost:8080/",
          "height": 111
        }
      },
      "source": [
        "test_Data.groupby('label').count().toPandas()"
      ],
      "execution_count": null,
      "outputs": [
        {
          "output_type": "execute_result",
          "data": {
            "text/html": [
              "<div>\n",
              "<style scoped>\n",
              "    .dataframe tbody tr th:only-of-type {\n",
              "        vertical-align: middle;\n",
              "    }\n",
              "\n",
              "    .dataframe tbody tr th {\n",
              "        vertical-align: top;\n",
              "    }\n",
              "\n",
              "    .dataframe thead th {\n",
              "        text-align: right;\n",
              "    }\n",
              "</style>\n",
              "<table border=\"1\" class=\"dataframe\">\n",
              "  <thead>\n",
              "    <tr style=\"text-align: right;\">\n",
              "      <th></th>\n",
              "      <th>label</th>\n",
              "      <th>count</th>\n",
              "    </tr>\n",
              "  </thead>\n",
              "  <tbody>\n",
              "    <tr>\n",
              "      <th>0</th>\n",
              "      <td>1</td>\n",
              "      <td>11423</td>\n",
              "    </tr>\n",
              "    <tr>\n",
              "      <th>1</th>\n",
              "      <td>0</td>\n",
              "      <td>200479</td>\n",
              "    </tr>\n",
              "  </tbody>\n",
              "</table>\n",
              "</div>"
            ],
            "text/plain": [
              "   label   count\n",
              "0      1   11423\n",
              "1      0  200479"
            ]
          },
          "metadata": {
            "tags": []
          },
          "execution_count": 107
        }
      ]
    },
    {
      "cell_type": "code",
      "metadata": {
        "id": "KWSYB-TVFMdq",
        "outputId": "c036aa33-ee59-426f-f864-c2c48822d2a3",
        "colab": {
          "base_uri": "https://localhost:8080/",
          "height": 111
        }
      },
      "source": [
        "predictions.groupby('prediction').count().toPandas()"
      ],
      "execution_count": null,
      "outputs": [
        {
          "output_type": "execute_result",
          "data": {
            "text/html": [
              "<div>\n",
              "<style scoped>\n",
              "    .dataframe tbody tr th:only-of-type {\n",
              "        vertical-align: middle;\n",
              "    }\n",
              "\n",
              "    .dataframe tbody tr th {\n",
              "        vertical-align: top;\n",
              "    }\n",
              "\n",
              "    .dataframe thead th {\n",
              "        text-align: right;\n",
              "    }\n",
              "</style>\n",
              "<table border=\"1\" class=\"dataframe\">\n",
              "  <thead>\n",
              "    <tr style=\"text-align: right;\">\n",
              "      <th></th>\n",
              "      <th>prediction</th>\n",
              "      <th>count</th>\n",
              "    </tr>\n",
              "  </thead>\n",
              "  <tbody>\n",
              "    <tr>\n",
              "      <th>0</th>\n",
              "      <td>0.0</td>\n",
              "      <td>204527</td>\n",
              "    </tr>\n",
              "    <tr>\n",
              "      <th>1</th>\n",
              "      <td>1.0</td>\n",
              "      <td>7375</td>\n",
              "    </tr>\n",
              "  </tbody>\n",
              "</table>\n",
              "</div>"
            ],
            "text/plain": [
              "   prediction   count\n",
              "0         0.0  204527\n",
              "1         1.0    7375"
            ]
          },
          "metadata": {
            "tags": []
          },
          "execution_count": 104
        }
      ]
    },
    {
      "cell_type": "code",
      "metadata": {
        "id": "69LuD2xxFMHg",
        "outputId": "5fc582e6-fced-4074-87d8-271249142f7b",
        "colab": {
          "base_uri": "https://localhost:8080/",
          "height": 34
        }
      },
      "source": [
        "#Actual training data had approx 11K malicious and 2 lac non-malicious urls\n",
        "#Without sampling, predicted malicious urls are 7K and non-malicious 2lac\n",
        "test_Data.count()"
      ],
      "execution_count": null,
      "outputs": [
        {
          "output_type": "execute_result",
          "data": {
            "text/plain": [
              "211902"
            ]
          },
          "metadata": {
            "tags": []
          },
          "execution_count": 108
        }
      ]
    },
    {
      "cell_type": "code",
      "metadata": {
        "id": "aYtJWAUEGOW9",
        "outputId": "97241d28-78d8-493c-9c0e-e874e0782720",
        "colab": {
          "base_uri": "https://localhost:8080/",
          "height": 34
        }
      },
      "source": [
        "predictions.count()"
      ],
      "execution_count": null,
      "outputs": [
        {
          "output_type": "execute_result",
          "data": {
            "text/plain": [
              "211902"
            ]
          },
          "metadata": {
            "tags": []
          },
          "execution_count": 106
        }
      ]
    },
    {
      "cell_type": "code",
      "metadata": {
        "id": "xpmnKevFn05F",
        "outputId": "60c43b17-90fa-40c2-8b8d-23b613203fba",
        "colab": {
          "base_uri": "https://localhost:8080/",
          "height": 122
        }
      },
      "source": [
        "#Since it is a classification problem i.e. either the URL is malicious or non-malicious, we are using logistic regression.\n",
        "#We will iterate 5 times the same model.\n",
        "from pyspark.ml.classification import LogisticRegression\n",
        "for i in range(1,6):\n",
        "  data_set= PipelineFit.transform(sampled_data)\n",
        "  logistic = LogisticRegression(maxIter=10000, regParam=0.3, elasticNetParam=0, family = \"binomial\")\n",
        "  #training model using logistic regression\n",
        "  logisticModel = logistic.fit(training_Data)\n",
        "  #making predictions based on training data, note that label is not used here\n",
        "  predictions = logisticModel.transform(test_Data)\n",
        "  print(predictions.select(\"features\").take(1), predictions.select(\"prediction\").take(1))\n"
      ],
      "execution_count": null,
      "outputs": [
        {
          "output_type": "stream",
          "text": [
            "[Row(features=SparseVector(6960, {0: 0.5507})), Row(features=SparseVector(6960, {0: 0.5507})), Row(features=SparseVector(6960, {0: 0.5507})), Row(features=SparseVector(6960, {0: 0.5507})), Row(features=SparseVector(6960, {0: 0.5507}))] [Row(prediction=0.0), Row(prediction=0.0), Row(prediction=0.0), Row(prediction=0.0), Row(prediction=0.0)]\n",
            "[Row(features=SparseVector(6960, {0: 0.5507})), Row(features=SparseVector(6960, {0: 0.5507})), Row(features=SparseVector(6960, {0: 0.5507})), Row(features=SparseVector(6960, {0: 0.5507})), Row(features=SparseVector(6960, {0: 0.5507}))] [Row(prediction=0.0), Row(prediction=0.0), Row(prediction=0.0), Row(prediction=0.0), Row(prediction=0.0)]\n",
            "[Row(features=SparseVector(6960, {0: 0.5507})), Row(features=SparseVector(6960, {0: 0.5507})), Row(features=SparseVector(6960, {0: 0.5507})), Row(features=SparseVector(6960, {0: 0.5507})), Row(features=SparseVector(6960, {0: 0.5507}))] [Row(prediction=0.0), Row(prediction=0.0), Row(prediction=0.0), Row(prediction=0.0), Row(prediction=0.0)]\n",
            "[Row(features=SparseVector(6960, {0: 0.5507})), Row(features=SparseVector(6960, {0: 0.5507})), Row(features=SparseVector(6960, {0: 0.5507})), Row(features=SparseVector(6960, {0: 0.5507})), Row(features=SparseVector(6960, {0: 0.5507}))] [Row(prediction=0.0), Row(prediction=0.0), Row(prediction=0.0), Row(prediction=0.0), Row(prediction=0.0)]\n",
            "[Row(features=SparseVector(6960, {0: 0.5507})), Row(features=SparseVector(6960, {0: 0.5507})), Row(features=SparseVector(6960, {0: 0.5507})), Row(features=SparseVector(6960, {0: 0.5507})), Row(features=SparseVector(6960, {0: 0.5507}))] [Row(prediction=0.0), Row(prediction=0.0), Row(prediction=0.0), Row(prediction=0.0), Row(prediction=0.0)]\n"
          ],
          "name": "stdout"
        }
      ]
    },
    {
      "cell_type": "code",
      "metadata": {
        "id": "6Yl79oa0p0qH",
        "outputId": "9715d203-42c2-47d6-ff54-ba6bb3ae16da",
        "colab": {
          "base_uri": "https://localhost:8080/",
          "height": 54
        }
      },
      "source": [
        "predictions"
      ],
      "execution_count": null,
      "outputs": [
        {
          "output_type": "execute_result",
          "data": {
            "text/plain": [
              "DataFrame[url: string, label: int, Words: array<string>, Raw Features: vector, features: vector, rawPrediction: vector, probability: vector, prediction: double]"
            ]
          },
          "metadata": {
            "tags": []
          },
          "execution_count": 34
        }
      ]
    },
    {
      "cell_type": "markdown",
      "metadata": {
        "id": "aqIssLXdqgnj"
      },
      "source": [
        "# **Confusion Matrix Plotting**\n"
      ]
    },
    {
      "cell_type": "code",
      "metadata": {
        "id": "LwjQthmAqvE1"
      },
      "source": [
        "#Consider 1 as positive(malicious) and 0 as negative(non-malicious)\n",
        "\n",
        "#Converting predictions into a pandas dataframe\n",
        "df_predictions = predictions.select('prediction', 'label')\n",
        "\n",
        "#What is True Positive here?\n",
        "#A url was malicious and it was predicted as malicious is True Positive(TP)\n",
        "TP = df_predictions[(df_predictions.label == 1) & (df_predictions.prediction == 1)].count()\n",
        "\n",
        "#What is True Negative here?\n",
        "#A url was non-malicious and it was predicted as non-malicious is True Negative(NP)\n",
        "TN = df_predictions[(df_predictions.label == 0) & (df_predictions.prediction == 0)].count()\n",
        "\n",
        "#What is False Positive here?\n",
        "#A url was non-malicious and it was predicted as malicious is False Positive(FP)\n",
        "FP = df_predictions[(df_predictions.label == 0) & (df_predictions.prediction == 1)].count()\n",
        "\n",
        "#What is False Negative here?\n",
        "#A url was malicious and it was predicted as non-malicious is False Negative(FP)\n",
        "FN = df_predictions[(df_predictions.label == 1) & (df_predictions.prediction == 0)].count()"
      ],
      "execution_count": null,
      "outputs": []
    },
    {
      "cell_type": "code",
      "metadata": {
        "id": "sinky7izuSNe",
        "outputId": "0d3a69f4-e2d7-43fe-8d22-61646aae767d",
        "colab": {
          "base_uri": "https://localhost:8080/",
          "height": 102
        }
      },
      "source": [
        "print(\"\\nTrue Positives (URL was malicious and predicted as malicious): %g\" % TP)\n",
        "print(\"True Negative (URL was non-malicious and predicted as non-malicious): %g\" % TN)\n",
        "print(\"False Positive (URL was non-malicious and predicted as malicious): %g\" % FP)\n",
        "print(\"False Negative (URL was malicious and predicted as non-malicious): %g\" % FN)"
      ],
      "execution_count": null,
      "outputs": [
        {
          "output_type": "stream",
          "text": [
            "\n",
            "True Positives (URL was malicious and predicted as malicious): 10780\n",
            "True Negative (URL was non-malicious and predicted as non-malicious): 10856\n",
            "False Positive (URL was non-malicious and predicted as malicious): 1\n",
            "False Negative (URL was malicious and predicted as non-malicious): 664\n"
          ],
          "name": "stdout"
        }
      ]
    },
    {
      "cell_type": "code",
      "metadata": {
        "id": "raXLUVEVEAC0",
        "outputId": "88a59e7a-9d04-4c66-e6f7-407009323763",
        "colab": {
          "base_uri": "https://localhost:8080/",
          "height": 34
        }
      },
      "source": [
        "print(\"Total: %g\" % (df_predictions.count()))\n",
        " \n",
        "recall = float(TP)/(TP + FN) \n",
        "precision = float(TP) / (TP + FP)\n",
        "accuracy = float(TP + TN) / (TP + FP + TN + FN)\n",
        "f1_score = float(precision*recall)/(precision+recall) * 2\n"
      ],
      "execution_count": null,
      "outputs": [
        {
          "output_type": "stream",
          "text": [
            "Total: 22301\n"
          ],
          "name": "stdout"
        }
      ]
    },
    {
      "cell_type": "code",
      "metadata": {
        "id": "tKQPHphsMufD",
        "outputId": "605861f8-de6c-4be4-841a-c79cc98bd2a9",
        "colab": {
          "base_uri": "https://localhost:8080/",
          "height": 34
        }
      },
      "source": [
        "recall"
      ],
      "execution_count": null,
      "outputs": [
        {
          "output_type": "execute_result",
          "data": {
            "text/plain": [
              "0.9419783292555051"
            ]
          },
          "metadata": {
            "tags": []
          },
          "execution_count": 38
        }
      ]
    },
    {
      "cell_type": "code",
      "metadata": {
        "id": "mOZ6NZW_Mwy9",
        "outputId": "af9500e6-3e8d-4cb4-f42b-ac2b9342d240",
        "colab": {
          "base_uri": "https://localhost:8080/",
          "height": 34
        }
      },
      "source": [
        "precision"
      ],
      "execution_count": null,
      "outputs": [
        {
          "output_type": "execute_result",
          "data": {
            "text/plain": [
              "0.9999072442259531"
            ]
          },
          "metadata": {
            "tags": []
          },
          "execution_count": 39
        }
      ]
    },
    {
      "cell_type": "code",
      "metadata": {
        "id": "_8K0WmQIM0I0",
        "outputId": "eede910e-ccd0-4d0d-f08e-59969d9dabc3",
        "colab": {
          "base_uri": "https://localhost:8080/",
          "height": 34
        }
      },
      "source": [
        "accuracy"
      ],
      "execution_count": null,
      "outputs": [
        {
          "output_type": "execute_result",
          "data": {
            "text/plain": [
              "0.9701807093852294"
            ]
          },
          "metadata": {
            "tags": []
          },
          "execution_count": 40
        }
      ]
    },
    {
      "cell_type": "code",
      "metadata": {
        "id": "vtUUhFs9M3PP",
        "outputId": "d36ae911-a29b-4c93-975f-2ca3bc2f6634",
        "colab": {
          "base_uri": "https://localhost:8080/",
          "height": 34
        }
      },
      "source": [
        "f1_score"
      ],
      "execution_count": null,
      "outputs": [
        {
          "output_type": "execute_result",
          "data": {
            "text/plain": [
              "0.9700787401574804"
            ]
          },
          "metadata": {
            "tags": []
          },
          "execution_count": 41
        }
      ]
    },
    {
      "cell_type": "code",
      "metadata": {
        "id": "pAR_sh1YM8zY",
        "outputId": "75b9950b-86cc-4632-a5a6-5119bdbbf57c",
        "colab": {
          "base_uri": "https://localhost:8080/",
          "height": 102
        }
      },
      "source": [
        "print(\"\\nAccuracy: %g\" %(accuracy*100))\n",
        "print(\"F-Score: %f1\" %(f1_score*100))\n",
        "print(\"Recall: %g\" %(recall*100))\n",
        "print(\"Precision: %g\" %(precision*100))"
      ],
      "execution_count": null,
      "outputs": [
        {
          "output_type": "stream",
          "text": [
            "\n",
            "Accuracy: 97.0181\n",
            "F-Score: 97.0078741\n",
            "Recall: 94.1978\n",
            "Precision: 99.9907\n"
          ],
          "name": "stdout"
        }
      ]
    },
    {
      "cell_type": "code",
      "metadata": {
        "id": "HyZ8HfiRNig9",
        "outputId": "11673062-0087-42e8-ea84-295b37854d3b",
        "colab": {
          "base_uri": "https://localhost:8080/",
          "height": 324
        }
      },
      "source": [
        "#Let's plot the model performance\n",
        "from sklearn.metrics import confusion_matrix\n",
        "\n",
        "logistic_predictions = logisticModel.transform(test_Data)\n",
        "\n",
        "y_actual = logistic_predictions.select(\"label\").toPandas()\n",
        "y_prediction = logistic_predictions.select(\"prediction\").toPandas()\n",
        "\n",
        "cm = confusion_matrix(y_actual, y_prediction)\n",
        "\n",
        "plt.clf()\n",
        "plt.imshow(cm, interpolation='nearest', cmap=plt.cm.Wistia)\n",
        "classNames = ['Negative','Positive']\n",
        "plt.title('LOGISTIC REGRESSION')\n",
        "plt.ylabel('Actual label')\n",
        "plt.xlabel('Predicted label')\n",
        "tick_marks = np.arange(len(classNames))\n",
        "plt.xticks(tick_marks, classNames, rotation=45)\n",
        "plt.yticks(tick_marks, classNames)\n",
        "\n",
        "s = [['TN','FP'], ['FN', 'TP']]\n",
        "for i in range(2):\n",
        "    for j in range(2):\n",
        "        plt.text(j,i, str(s[i][j])+\" = \"+str(cm[i][j]))\n",
        "plt.show()\n"
      ],
      "execution_count": null,
      "outputs": [
        {
          "output_type": "display_data",
          "data": {
            "image/png": "[encoded data removed]",
            "text/plain": [
              "<Figure size 432x288 with 1 Axes>"
            ]
          },
          "metadata": {
            "tags": []
          }
        }
      ]
    },
    {
      "cell_type": "code",
      "metadata": {
        "id": "JKDTC6t8P7Vu",
        "outputId": "16c3e457-b5c4-4ab8-d2f2-820808c04c68",
        "colab": {
          "base_uri": "https://localhost:8080/",
          "height": 265
        }
      },
      "source": [
        "beta = np.sort(logisticModel.coefficients)\n",
        "plt.plot(beta)\n",
        "plt.ylabel('Beta Coefficients')\n",
        "plt.show()"
      ],
      "execution_count": null,
      "outputs": [
        {
          "output_type": "display_data",
          "data": {
            "image/png": "[encoded data removed]",
            "text/plain": [
              "<Figure size 432x288 with 1 Axes>"
            ]
          },
          "metadata": {
            "tags": []
          }
        }
      ]
    },
    {
      "cell_type": "code",
      "metadata": {
        "id": "tR6pFUGuQxTG",
        "outputId": "d8e38636-89ab-4e75-aa11-34fb47176746",
        "colab": {
          "base_uri": "https://localhost:8080/",
          "height": 279
        }
      },
      "source": [
        "#Extracting summary of trained Logistic Regression Model instance\n",
        "training_Summary = logisticModel.summary\n",
        "\n",
        "#Obtain the objective per iteration\n",
        "objectiveHistory = training_Summary.objectiveHistory\n",
        "plt.plot(objectiveHistory)\n",
        "plt.ylabel('Objective Function')\n",
        "plt.xlabel('Iteration')\n",
        "plt.show()\n"
      ],
      "execution_count": null,
      "outputs": [
        {
          "output_type": "display_data",
          "data": {
            "image/png": "[encoded data removed]",
            "text/plain": [
              "<Figure size 432x288 with 1 Axes>"
            ]
          },
          "metadata": {
            "tags": []
          }
        }
      ]
    },
    {
      "cell_type": "code",
      "metadata": {
        "id": "dGG8zpb1RZcD",
        "outputId": "162ff7f8-233f-4e15-809f-176b99d16261",
        "colab": {
          "base_uri": "https://localhost:8080/",
          "height": 279
        }
      },
      "source": [
        "pr = training_Summary.pr.toPandas()\n",
        "plt.plot(pr['recall'],pr['precision'])\n",
        "plt.ylabel('Precision')\n",
        "plt.xlabel('Recall')\n",
        "plt.show()"
      ],
      "execution_count": null,
      "outputs": [
        {
          "output_type": "display_data",
          "data": {
            "image/png": "[encoded data removed]",
            "text/plain": [
              "<Figure size 432x288 with 1 Axes>"
            ]
          },
          "metadata": {
            "tags": []
          }
        }
      ]
    },
    {
      "cell_type": "code",
      "metadata": {
        "id": "cGLMjRoWSjd4",
        "outputId": "d96da704-2700-4e95-e1ae-95c1eb4f1969",
        "colab": {
          "base_uri": "https://localhost:8080/",
          "height": 312
        }
      },
      "source": [
        "#ROC Curve\n",
        "#Obtain the receiver-operating characteristic as a dataframe and areaUnderROC.\n",
        "print(\"areaUnderROC: \" + str(training_Summary.areaUnderROC))\n",
        "\n",
        "roc = training_Summary.roc.toPandas()\n",
        "plt.plot(roc['FPR'],roc['TPR'])\n",
        "plt.ylabel('True Positive Rate')\n",
        "plt.xlabel('False Positive Rate')\n",
        "plt.title('ROC Curve')\n",
        "plt.show()"
      ],
      "execution_count": null,
      "outputs": [
        {
          "output_type": "stream",
          "text": [
            "areaUnderROC: 0.9956674302789228\n"
          ],
          "name": "stdout"
        },
        {
          "output_type": "display_data",
          "data": {
            "image/png": "[encoded data removed]",
            "text/plain": [
              "<Figure size 432x288 with 1 Axes>"
            ]
          },
          "metadata": {
            "tags": []
          }
        }
      ]
    },
    {
      "cell_type": "code",
      "metadata": {
        "id": "sK7VAeiJTwcB",
        "outputId": "88a15876-4bb7-4276-c693-c66d4cad9583",
        "colab": {
          "base_uri": "https://localhost:8080/",
          "height": 551
        }
      },
      "source": [
        "#Set the model threshold to maximize F-Measure\n",
        "training_Summary.fMeasureByThreshold.show(n=10, truncate = 15)\n",
        "f = training_Summary.fMeasureByThreshold.toPandas()\n",
        "plt.plot(f['threshold'],f['F-Measure'])\n",
        "plt.ylabel('F-Measure')\n",
        "plt.xlabel('Threshold')\n",
        "plt.show()"
      ],
      "execution_count": null,
      "outputs": [
        {
          "output_type": "stream",
          "text": [
            "+---------------+---------------+\n",
            "|      threshold|      F-Measure|\n",
            "+---------------+---------------+\n",
            "|0.9916354104...|0.0158754388...|\n",
            "|0.9857481419...|0.0306060606...|\n",
            "|0.9807170793...|0.0441530524...|\n",
            "|0.9758366287...|0.0589653333...|\n",
            "|0.9710312426...|0.0733509793...|\n",
            "|0.9670594088...|0.0882482718...|\n",
            "|0.9634852975...|0.1046952464...|\n",
            "|0.9593620225...|0.1191524547...|\n",
            "|0.9559517253...|0.1334290696...|\n",
            "|0.9526196132...|0.1468869019...|\n",
            "+---------------+---------------+\n",
            "only showing top 10 rows\n",
            "\n"
          ],
          "name": "stdout"
        },
        {
          "output_type": "display_data",
          "data": {
            "image/png": "[encoded data removed]",
            "text/plain": [
              "<Figure size 432x288 with 1 Axes>"
            ]
          },
          "metadata": {
            "tags": []
          }
        }
      ]
    },
    {
      "cell_type": "code",
      "metadata": {
        "id": "703scMOzUc00",
        "outputId": "d6ffb3ed-1d52-4630-9342-76067f6265c6",
        "colab": {
          "base_uri": "https://localhost:8080/",
          "height": 459
        }
      },
      "source": [
        "predictions.filter(predictions['prediction'] == 0).select(\"url\", \"label\",\"prediction\").orderBy(\"probability\", ascending=False).show(n = 20, truncate = 80)\n",
        "    "
      ],
      "execution_count": null,
      "outputs": [
        {
          "output_type": "stream",
          "text": [
            "+------------------------------------------+-----+----------+\n",
            "|                                       url|label|prediction|\n",
            "+------------------------------------------+-----+----------+\n",
            "|                        hair-hair-hair.com|    0|       0.0|\n",
            "|    amoxicillin-no-prescription-amoxil.com|    0|       0.0|\n",
            "|               20mg-tadalafil-generic.mobi|    0|       0.0|\n",
            "|withoutprescription-amoxil-amoxicillin.com|    0|       0.0|\n",
            "|                    prices-buy-levitra.net|    0|       0.0|\n",
            "|              cheapest-ventolin-buy.online|    0|       0.0|\n",
            "|                     canada-cialis-buy.org|    0|       0.0|\n",
            "|             canadian-pharmacy-online.mobi|    0|       0.0|\n",
            "|               tadalafil-cialis-canada.com|    0|       0.0|\n",
            "|                                pioneer.jp|    0|       0.0|\n",
            "|                              izzy-cars.nl|    1|       0.0|\n",
            "|                       buy-baclofen.reisen|    0|       0.0|\n",
            "|                     online-buy-lasix.mobi|    0|       0.0|\n",
            "|            online-amoxil-amoxicillin.mobi|    0|       0.0|\n",
            "|                                 cinema.nl|    0|       0.0|\n",
            "|                          wearable-expo.jp|    0|       0.0|\n",
            "|            lowest-price20mg-tadalafil.net|    0|       0.0|\n",
            "|   20mgwithout-prescription-prednisone.net|    0|       0.0|\n",
            "|               salbutamol-buy-ventolin.net|    0|       0.0|\n",
            "|                     paris-brest-paris.org|    0|       0.0|\n",
            "+------------------------------------------+-----+----------+\n",
            "only showing top 20 rows\n",
            "\n"
          ],
          "name": "stdout"
        }
      ]
    },
    {
      "cell_type": "markdown",
      "metadata": {
        "id": "5LtlQoYcV_J5"
      },
      "source": [
        "# **Cross Validation for Logistic Regression**"
      ]
    },
    {
      "cell_type": "code",
      "metadata": {
        "id": "IbIUHm4SVwBE"
      },
      "source": [
        "from pyspark.ml.tuning import ParamGridBuilder, CrossValidator\n",
        "# Creating ParamGrid for Cross Validation\n",
        "paramGrid = (ParamGridBuilder()\n",
        "             .addGrid(logistic.regParam, [0.1, 0.3, 0.5]) # regularization parameter\n",
        "             .addGrid(logistic.elasticNetParam, [0.0, 0.1, 0.2]) # Elastic Net Parameter (Ridge = 0)\n",
        "             .build())"
      ],
      "execution_count": null,
      "outputs": []
    },
    {
      "cell_type": "code",
      "metadata": {
        "id": "CpR8NWlUXx-v",
        "outputId": "17837c48-e224-4b5b-c9e5-7d016f779634",
        "colab": {
          "base_uri": "https://localhost:8080/",
          "height": 51
        }
      },
      "source": [
        "from pyspark.ml.evaluation import RegressionEvaluator\n",
        "evaluator = RegressionEvaluator(labelCol=\"label\", predictionCol=\"prediction\", metricName=\"rmse\")\n",
        "rmse = evaluator.evaluate(predictions)\n",
        "print(\"\\nRoot Mean Squared Error (RMSE) on test data = %g\" % rmse)"
      ],
      "execution_count": null,
      "outputs": [
        {
          "output_type": "stream",
          "text": [
            "\n",
            "Root Mean Squared Error (RMSE) on test data = 0.172683\n"
          ],
          "name": "stdout"
        }
      ]
    },
    {
      "cell_type": "code",
      "metadata": {
        "id": "KSpDky80Wj6k"
      },
      "source": [
        "# Create 10-fold CrossValidator\n",
        "cv = CrossValidator(estimator=logistic,estimatorParamMaps=paramGrid, \\\n",
        "                    evaluator=evaluator, \\\n",
        "                    numFolds=5)"
      ],
      "execution_count": null,
      "outputs": []
    },
    {
      "cell_type": "code",
      "metadata": {
        "id": "71oomidrd9dW"
      },
      "source": [
        "from pyspark.ml.evaluation import BinaryClassificationEvaluator\n",
        "\n",
        "evaluator = BinaryClassificationEvaluator()"
      ],
      "execution_count": null,
      "outputs": []
    },
    {
      "cell_type": "code",
      "metadata": {
        "id": "3A_F0wLPYEkP",
        "outputId": "c3cf45c8-5cda-4e68-ebb3-03e2ba2b3f1f",
        "colab": {
          "base_uri": "https://localhost:8080/",
          "height": 34
        }
      },
      "source": [
        "# Run cross validations\n",
        "cross_validationModel = cv.fit(training_Data)\n",
        "# this will likely take a fair amount of time because of the amount of models that we're creating and testing\n",
        "\n",
        "# Use test set here so we can measure the accuracy of our model on new data\n",
        "predictions = cross_validationModel.transform(test_Data)\n",
        "\n",
        "# cvModel uses the best model found from the Cross Validation\n",
        "# Evaluate best model\n",
        "print(\"Test: Area Under ROC: \" + str(evaluator.evaluate(predictions, {evaluator.metricName: \"areaUnderROC\"})))"
      ],
      "execution_count": null,
      "outputs": [
        {
          "output_type": "stream",
          "text": [
            "Test: Area Under ROC: 0.9930049421997263\n"
          ],
          "name": "stdout"
        }
      ]
    },
    {
      "cell_type": "code",
      "metadata": {
        "id": "_OBHVIw9jQdC",
        "outputId": "1fa2ea91-5cb3-4bc6-99a6-5db9e207ceaf",
        "colab": {
          "base_uri": "https://localhost:8080/",
          "height": 204
        }
      },
      "source": [
        "from pyspark.mllib.evaluation import MulticlassMetrics\n",
        "\n",
        "df_predictions = predictions.select('prediction', 'label')\n",
        "\n",
        "prediction_and_Labels=df_predictions.rdd\n",
        "metrics = MulticlassMetrics(prediction_and_Labels) \n",
        "\n",
        "\n",
        "\n",
        "TP = df_predictions[(df_predictions.label == 1) & (df_predictions.prediction == 1)].count()\n",
        "TN = df_predictions[(df_predictions.label == 0) & (df_predictions.prediction == 0)].count()\n",
        "FP = df_predictions[(df_predictions.label == 0) & (df_predictions.prediction == 1)].count()\n",
        "FN = df_predictions[(df_predictions.label == 1) & (df_predictions.prediction == 0)].count()\n",
        "\n",
        "print(\"\\nTrue Positives: %g\" % TP)\n",
        "print(\"True Negative: %g\" % TN)\n",
        "print(\"False Positive: %g\" % FP)\n",
        "print(\"False Negative: %g\" % FN)\n",
        "\n",
        "\n",
        "print(\"Total: %g\" % (df_predictions.count()))\n",
        " \n",
        "recall = float(TP)/(TP + FN) #Number of \n",
        "precision = float(TP) / (TP + FP)\n",
        "accuracy = float(TP + TN) / (TP + FP + TN + FN)\n",
        "f1_score = float(precision*recall)/(precision+recall) * 2\n",
        "\n",
        "\n",
        "print(\"F-Score: %f1\" %(f1_score*100))\n",
        "print(\"\\nAccuracy: %g\" %(accuracy*100))\n",
        "print(\"Recall: %g\" %(recall*100))\n",
        "print(\"Precision: %g\" %(precision*100))"
      ],
      "execution_count": null,
      "outputs": [
        {
          "output_type": "stream",
          "text": [
            "\n",
            "True Positives: 11214\n",
            "True Negative: 10892\n",
            "False Positive: 1\n",
            "False Negative: 230\n",
            "Total: 22337\n",
            "F-Score: 98.9805381\n",
            "\n",
            "Accuracy: 98.9658\n",
            "Recall: 97.9902\n",
            "Precision: 99.9911\n"
          ],
          "name": "stdout"
        }
      ]
    },
    {
      "cell_type": "code",
      "metadata": {
        "id": "ONenujC-ompD",
        "outputId": "34209db9-5c8f-4e71-81a0-76689fc9bd84",
        "colab": {
          "base_uri": "https://localhost:8080/",
          "height": 324
        }
      },
      "source": [
        "cv_predictions = cross_validationModel.transform(test_Data)\n",
        "\n",
        "y_actual = cv_predictions.select(\"label\").toPandas()\n",
        "y_prediction = cv_predictions.select(\"prediction\").toPandas()\n",
        "\n",
        "cm = confusion_matrix(y_actual, y_prediction)\n",
        "plt.clf()\n",
        "plt.imshow(cm, interpolation='nearest', cmap=plt.cm.Wistia)\n",
        "classNames = ['Negative','Positive']\n",
        "plt.title('CROSS-VALIDATION FOR LOGISTIC REGRESSION')\n",
        "plt.ylabel('True label')\n",
        "plt.xlabel('Predicted label')\n",
        "tick_marks = np.arange(len(classNames))\n",
        "plt.xticks(tick_marks, classNames, rotation=45)\n",
        "plt.yticks(tick_marks, classNames)\n",
        "\n",
        "\n",
        "s = [['TN','FP'], ['FN', 'TP']]\n",
        "for i in range(2):\n",
        "    for j in range(2):\n",
        "        plt.text(j,i, str(s[i][j])+\" = \"+str(cm[i][j]))\n",
        "plt.show()"
      ],
      "execution_count": null,
      "outputs": [
        {
          "output_type": "display_data",
          "data": {
            "image/png": "[encoded data removed]",
            "text/plain": [
              "<Figure size 432x288 with 1 Axes>"
            ]
          },
          "metadata": {
            "tags": []
          }
        }
      ]
    },
    {
      "cell_type": "markdown",
      "metadata": {
        "id": "Wz5LyN5cpQ84"
      },
      "source": [
        "# **Naive Bayes**"
      ]
    },
    {
      "cell_type": "code",
      "metadata": {
        "id": "f_laeb7Io8kS"
      },
      "source": [
        "#How about training same dataset using Naive Bayes?\n",
        "from pyspark.ml.classification import NaiveBayes\n",
        "#Creating naive bayes object\n",
        "nb = NaiveBayes(smoothing=1, modelType=\"multinomial\",)\n",
        " \n",
        "# train the model\n",
        "model = nb.fit(training_Data)\n",
        "\n",
        "# select example rows to display.\n",
        "predictions = model.transform(test_Data)\n"
      ],
      "execution_count": null,
      "outputs": []
    },
    {
      "cell_type": "code",
      "metadata": {
        "id": "4Zp_izuDpzc7",
        "outputId": "1ccd1782-7ce8-40b6-e420-61cb6aff7fd2",
        "colab": {
          "base_uri": "https://localhost:8080/",
          "height": 34
        }
      },
      "source": [
        "from pyspark.ml.evaluation import BinaryClassificationEvaluator\n",
        "\n",
        "# compute accuracy on the test set\n",
        "evaluator = BinaryClassificationEvaluator(rawPredictionCol=\"prediction\")\n",
        "print(\"Test: Area Under ROC: \" + str(evaluator.evaluate(predictions, {evaluator.metricName: \"areaUnderROC\"})))"
      ],
      "execution_count": null,
      "outputs": [
        {
          "output_type": "stream",
          "text": [
            "Test: Area Under ROC: 0.9675280603582117\n"
          ],
          "name": "stdout"
        }
      ]
    },
    {
      "cell_type": "code",
      "metadata": {
        "id": "0BOkJ3WIpwOu",
        "outputId": "dd7b759f-6a98-4a8d-8e45-460f3b4b6981",
        "colab": {
          "base_uri": "https://localhost:8080/",
          "height": 204
        }
      },
      "source": [
        "df_predictions = predictions.select('prediction', 'label')\n",
        "\n",
        "TP = df_predictions[(df_predictions.label == 1) & (df_predictions.prediction == 1)].count()\n",
        "TN = df_predictions[(df_predictions.label == 0) & (df_predictions.prediction == 0)].count()\n",
        "FP = df_predictions[(df_predictions.label == 0) & (df_predictions.prediction == 1)].count()\n",
        "FN = df_predictions[(df_predictions.label == 1) & (df_predictions.prediction == 0)].count()\n",
        "\n",
        "print(\"\\nTrue Positives: %g\" % TP)\n",
        "print(\"True Negative: %g\" % TN)\n",
        "print(\"False Positive: %g\" % FP)\n",
        "print(\"False Negative: %g\" % FN)\n",
        "\n",
        "\n",
        "print(\"Total: %g\" % (df_predictions.count()))\n",
        " \n",
        "recall = float(TP)/(TP + FN) #Number of \n",
        "precision = float(TP) / (TP + FP)\n",
        "accuracy = float(TP + TN) / (TP + FP + TN + FN)\n",
        "f1_score = float(precision*recall)/(precision+recall) * 2\n",
        "\n",
        "\n",
        "print(\"F-Score: %f1\" %(f1_score*100))\n",
        "print(\"\\nAccuracy: %g\" %(accuracy*100))\n",
        "print(\"Recall: %g\" %(recall*100))\n",
        "print(\"Precision: %g\" %(precision*100))"
      ],
      "execution_count": null,
      "outputs": [
        {
          "output_type": "stream",
          "text": [
            "\n",
            "True Positives: 10913\n",
            "True Negative: 10691\n",
            "False Positive: 202\n",
            "False Negative: 531\n",
            "Total: 22337\n",
            "F-Score: 96.7507421\n",
            "\n",
            "Accuracy: 96.7184\n",
            "Recall: 95.36\n",
            "Precision: 98.1826\n"
          ],
          "name": "stdout"
        }
      ]
    },
    {
      "cell_type": "code",
      "metadata": {
        "id": "V-E9_2U6tSRu",
        "outputId": "0ea3537f-0194-4889-8e1c-61f4e03fbf9c",
        "colab": {
          "base_uri": "https://localhost:8080/",
          "height": 324
        }
      },
      "source": [
        "#plotting naive bayes results\n",
        "nb_predictions = model.transform(test_Data)\n",
        "\n",
        "y_actual = nb_predictions.select(\"label\").toPandas()\n",
        "y_prediction = nb_predictions.select(\"prediction\").toPandas()\n",
        "\n",
        "cm = confusion_matrix(y_actual, y_prediction)\n",
        "\n",
        "plt.clf()\n",
        "plt.imshow(cm, interpolation='nearest', cmap=plt.cm.Wistia)\n",
        "classNames = ['Negative','Positive']\n",
        "plt.title('Naive Bayes')\n",
        "plt.ylabel('True label')\n",
        "plt.xlabel('Predicted label')\n",
        "tick_marks = np.arange(len(classNames))\n",
        "plt.xticks(tick_marks, classNames, rotation=45)\n",
        "plt.yticks(tick_marks, classNames)\n",
        "\n",
        "s = [['TN','FP'], ['FN', 'TP']]\n",
        "for i in range(2):\n",
        "    for j in range(2):\n",
        "        plt.text(j,i, str(s[i][j])+\" = \"+str(cm[i][j]))\n",
        "plt.show()"
      ],
      "execution_count": null,
      "outputs": [
        {
          "output_type": "display_data",
          "data": {
            "image/png": "[encoded data removed]",
            "text/plain": [
              "<Figure size 432x288 with 1 Axes>"
            ]
          },
          "metadata": {
            "tags": []
          }
        }
      ]
    }
  ]
}